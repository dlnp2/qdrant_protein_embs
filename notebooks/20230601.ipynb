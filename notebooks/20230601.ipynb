{
 "cells": [
  {
   "cell_type": "code",
   "execution_count": 1,
   "metadata": {},
   "outputs": [],
   "source": [
    "import h5py\n",
    "import numpy as np\n",
    "from biotite.database import uniprot\n",
    "from qdrant_client import QdrantClient, models as qdmodels\n",
    "from scipy.spatial.distance import cdist"
   ]
  },
  {
   "attachments": {},
   "cell_type": "markdown",
   "metadata": {},
   "source": [
    "### Load dataset (ProtT5 embeddings of Homo sapiens proteins)"
   ]
  },
  {
   "cell_type": "code",
   "execution_count": 2,
   "metadata": {},
   "outputs": [
    {
     "data": {
      "text/plain": [
       "<HDF5 file \"UP000005640_9606.h5\" (mode r)>"
      ]
     },
     "execution_count": 2,
     "metadata": {},
     "output_type": "execute_result"
    }
   ],
   "source": [
    "dataset = h5py.File(\"../data/UP000005640_9606.h5\")\n",
    "dataset"
   ]
  },
  {
   "cell_type": "code",
   "execution_count": 3,
   "metadata": {},
   "outputs": [
    {
     "data": {
      "text/plain": [
       "20591"
      ]
     },
     "execution_count": 3,
     "metadata": {},
     "output_type": "execute_result"
    }
   ],
   "source": [
    "len(dataset)"
   ]
  },
  {
   "attachments": {},
   "cell_type": "markdown",
   "metadata": {},
   "source": [
    "### (Prelim. check) Which is faster to read an embedding vector out from h5 file?"
   ]
  },
  {
   "cell_type": "code",
   "execution_count": 4,
   "metadata": {},
   "outputs": [],
   "source": [
    "acc_id, vector = next(iter(dataset.items()))"
   ]
  },
  {
   "cell_type": "code",
   "execution_count": 5,
   "metadata": {},
   "outputs": [
    {
     "name": "stdout",
     "output_type": "stream",
     "text": [
      "13.1 µs ± 317 ns per loop (mean ± std. dev. of 7 runs, 100,000 loops each)\n"
     ]
    }
   ],
   "source": [
    "%timeit vector[:].astype(float).tolist()"
   ]
  },
  {
   "cell_type": "code",
   "execution_count": 6,
   "metadata": {},
   "outputs": [
    {
     "name": "stdout",
     "output_type": "stream",
     "text": [
      "22.8 ms ± 850 µs per loop (mean ± std. dev. of 7 runs, 10 loops each)\n"
     ]
    }
   ],
   "source": [
    "%timeit list(vector.astype(float))"
   ]
  },
  {
   "attachments": {},
   "cell_type": "markdown",
   "metadata": {},
   "source": [
    "-> directly using the underlying numpy array is far faster"
   ]
  },
  {
   "attachments": {},
   "cell_type": "markdown",
   "metadata": {},
   "source": [
    "### Create a collection and insert points"
   ]
  },
  {
   "cell_type": "code",
   "execution_count": 7,
   "metadata": {},
   "outputs": [],
   "source": [
    "client = QdrantClient()"
   ]
  },
  {
   "cell_type": "code",
   "execution_count": 8,
   "metadata": {},
   "outputs": [],
   "source": [
    "collection_name = \"UP000005640_9606\"\n",
    "\n",
    "client.recreate_collection(\n",
    "    collection_name=collection_name,\n",
    "    vectors_config=qdmodels.VectorParams(size=1024, distance=qdmodels.Distance.COSINE),\n",
    ")"
   ]
  },
  {
   "cell_type": "code",
   "execution_count": 9,
   "metadata": {},
   "outputs": [],
   "source": [
    "batch_size = 128\n",
    "\n",
    "points = []\n",
    "for idx, (acc_id, vector) in enumerate(dataset.items()):\n",
    "    point = qdmodels.PointStruct(\n",
    "        id=idx, vector=vector[:].astype(float).tolist(), payload={\"accession_id\": acc_id}\n",
    "    )\n",
    "    points.append(point)\n",
    "    if len(points) == batch_size:\n",
    "        op_results = client.upsert(collection_name=collection_name, points=points)\n",
    "        points = []\n",
    "if points:\n",
    "    op_results = client.upsert(collection_name=collection_name, points=points)\n",
    "del points"
   ]
  },
  {
   "cell_type": "code",
   "execution_count": 10,
   "metadata": {},
   "outputs": [
    {
     "data": {
      "text/plain": [
       "UpdateResult(operation_id=160, status=<UpdateStatus.COMPLETED: 'completed'>)"
      ]
     },
     "execution_count": 10,
     "metadata": {},
     "output_type": "execute_result"
    }
   ],
   "source": [
    "op_results"
   ]
  },
  {
   "attachments": {},
   "cell_type": "markdown",
   "metadata": {},
   "source": [
    "### Querying"
   ]
  },
  {
   "cell_type": "code",
   "execution_count": 11,
   "metadata": {},
   "outputs": [],
   "source": [
    "query_acc_id = np.random.choice(list(dataset.keys()))\n",
    "query_vector = dataset[query_acc_id][:].astype(float).tolist()"
   ]
  },
  {
   "cell_type": "code",
   "execution_count": 12,
   "metadata": {},
   "outputs": [],
   "source": [
    "hits = client.search(\n",
    "    collection_name=collection_name,\n",
    "    query_vector=query_vector,\n",
    "    limit=10,\n",
    ")"
   ]
  },
  {
   "cell_type": "code",
   "execution_count": 13,
   "metadata": {},
   "outputs": [
    {
     "name": "stdout",
     "output_type": "stream",
     "text": [
      "7.93 ms ± 250 µs per loop (mean ± std. dev. of 7 runs, 100 loops each)\n"
     ]
    }
   ],
   "source": [
    "%%timeit\n",
    "client.search(\n",
    "    collection_name=collection_name,\n",
    "    query_vector=query_vector,\n",
    "    limit=10,\n",
    ")"
   ]
  },
  {
   "cell_type": "code",
   "execution_count": 14,
   "metadata": {},
   "outputs": [
    {
     "name": "stdout",
     "output_type": "stream",
     "text": [
      "10.8 ms ± 1.26 ms per loop (mean ± std. dev. of 7 runs, 100 loops each)\n"
     ]
    }
   ],
   "source": [
    "%%timeit\n",
    "client.search(\n",
    "    collection_name=collection_name,\n",
    "    search_params=qdmodels.SearchParams(exact=True),\n",
    "    query_vector=query_vector,\n",
    "    limit=10,\n",
    ")"
   ]
  },
  {
   "cell_type": "code",
   "execution_count": 15,
   "metadata": {},
   "outputs": [],
   "source": [
    "def fetch_uniprot_entry(accession_id: str) -> tuple[str, str]:\n",
    "    annotation, *seq = uniprot.fetch(accession_id, format=\"fasta\").read().split(\"\\n\")\n",
    "    return annotation, \"\".join(seq)"
   ]
  },
  {
   "cell_type": "code",
   "execution_count": 16,
   "metadata": {},
   "outputs": [
    {
     "name": "stdout",
     "output_type": "stream",
     "text": [
      "Q02543\n"
     ]
    },
    {
     "data": {
      "text/plain": [
       "('>sp|Q02543|RL18A_HUMAN 60S ribosomal protein L18a OS=Homo sapiens OX=9606 GN=RPL18A PE=1 SV=2',\n",
       " 'MKASGTLREYKVVGRCLPTPKCHTPPLYRMRIFAPNHVVAKSRFWYFVSQLKKMKKSSGEIVYCGQVFEKSPLRVKNFGIWLRYDSRSGTHNMYREYRDLTTAGAVTQCYRDMGARHRARAHSIQIMKVEEIAASKCRRPAVKQFHDSKIKFPLPHRVLRRQHKPRFTTKRPNTFF')"
      ]
     },
     "execution_count": 16,
     "metadata": {},
     "output_type": "execute_result"
    }
   ],
   "source": [
    "print(query_acc_id)\n",
    "fetch_uniprot_entry(query_acc_id)"
   ]
  },
  {
   "cell_type": "code",
   "execution_count": 17,
   "metadata": {},
   "outputs": [
    {
     "name": "stdout",
     "output_type": "stream",
     "text": [
      "1.0000001 >sp|Q02543|RL18A_HUMAN 60S ribosomal protein L18a OS=Homo sapiens OX=9606 GN=RPL18A PE=1 SV=2\n",
      "0.915057 >sp|P61313|RL15_HUMAN 60S ribosomal protein L15 OS=Homo sapiens OX=9606 GN=RPL15 PE=1 SV=2\n",
      "0.9046874 >sp|P62910|RL32_HUMAN 60S ribosomal protein L32 OS=Homo sapiens OX=9606 GN=RPL32 PE=1 SV=2\n",
      "0.9021665 >sp|Q07020|RL18_HUMAN 60S ribosomal protein L18 OS=Homo sapiens OX=9606 GN=RPL18 PE=1 SV=2\n",
      "0.9017502 >sp|P40429|RL13A_HUMAN 60S ribosomal protein L13a OS=Homo sapiens OX=9606 GN=RPL13A PE=1 SV=2\n",
      "0.90106285 >sp|P18077|RL35A_HUMAN 60S ribosomal protein L35a OS=Homo sapiens OX=9606 GN=RPL35A PE=1 SV=2\n",
      "0.9007937 >sp|P62241|RS8_HUMAN 40S ribosomal protein S8 OS=Homo sapiens OX=9606 GN=RPS8 PE=1 SV=2\n",
      "0.8986009 >sp|P62280|RS11_HUMAN 40S ribosomal protein S11 OS=Homo sapiens OX=9606 GN=RPS11 PE=1 SV=3\n",
      "0.89437604 >sp|P46778|RL21_HUMAN 60S ribosomal protein L21 OS=Homo sapiens OX=9606 GN=RPL21 PE=1 SV=2\n",
      "0.88958335 >sp|P18124|RL7_HUMAN 60S ribosomal protein L7 OS=Homo sapiens OX=9606 GN=RPL7 PE=1 SV=1\n"
     ]
    }
   ],
   "source": [
    "for hit in hits:\n",
    "    annotation, seq = fetch_uniprot_entry(hit.payload[\"accession_id\"])\n",
    "    print(hit.score, annotation)"
   ]
  },
  {
   "attachments": {},
   "cell_type": "markdown",
   "metadata": {},
   "source": [
    "### How fast is Qdrant? Querying via direct distance calculation with scipy"
   ]
  },
  {
   "cell_type": "code",
   "execution_count": 18,
   "metadata": {},
   "outputs": [],
   "source": [
    "# Create a \"vector database\"\n",
    "all_embeddings = np.stack([vector[:].astype(float) for vector in dataset.values()])\n",
    "query_embedding = dataset[query_acc_id][:].astype(float)"
   ]
  },
  {
   "cell_type": "code",
   "execution_count": 19,
   "metadata": {},
   "outputs": [],
   "source": [
    "all_acc_ids = list(dataset.keys())"
   ]
  },
  {
   "cell_type": "code",
   "execution_count": 20,
   "metadata": {},
   "outputs": [
    {
     "data": {
      "text/plain": [
       "[(0.9999999999999998, 'Q02543'),\n",
       " (0.9150568741108658, 'P61313'),\n",
       " (0.9046873686191571, 'P62910'),\n",
       " (0.9021664299651811, 'Q07020'),\n",
       " (0.9017501718261806, 'P40429'),\n",
       " (0.9010627598826844, 'P18077'),\n",
       " (0.9007935517352109, 'P62241'),\n",
       " (0.8986008819611099, 'P62280'),\n",
       " (0.8943759676859638, 'P46778'),\n",
       " (0.8895832426555201, 'P18124')]"
      ]
     },
     "execution_count": 20,
     "metadata": {},
     "output_type": "execute_result"
    }
   ],
   "source": [
    "# \"Querying\"\n",
    "distances = 1 - cdist(query_embedding.reshape(1, -1), all_embeddings, metric=\"cosine\")\n",
    "hit_ids = np.argsort(distances[0])[::-1][:10]\n",
    "hit_acc_ids = [all_acc_ids[idx] for idx in hit_ids]\n",
    "list(zip(distances[0, hit_ids], hit_acc_ids))"
   ]
  },
  {
   "attachments": {},
   "cell_type": "markdown",
   "metadata": {},
   "source": [
    "The result is identical to the one by Qdrant."
   ]
  },
  {
   "cell_type": "code",
   "execution_count": 21,
   "metadata": {},
   "outputs": [
    {
     "name": "stdout",
     "output_type": "stream",
     "text": [
      "39.9 ms ± 1.52 ms per loop (mean ± std. dev. of 7 runs, 10 loops each)\n"
     ]
    }
   ],
   "source": [
    "%%timeit\n",
    "distances = 1 - cdist(query_embedding.reshape(1, -1), all_embeddings, metric=\"cosine\")\n",
    "hit_ids = np.argsort(distances[0])[::-1][:10]\n",
    "hit_acc_ids = [all_acc_ids[idx] for idx in hit_ids]"
   ]
  },
  {
   "attachments": {},
   "cell_type": "markdown",
   "metadata": {},
   "source": [
    "Qdrant search is far faster than the naive kNN calculation using SciPy (and possibly more memory-efficient) even when Qdrant search is exact."
   ]
  }
 ],
 "metadata": {
  "kernelspec": {
   "display_name": ".venv",
   "language": "python",
   "name": "python3"
  },
  "language_info": {
   "codemirror_mode": {
    "name": "ipython",
    "version": 3
   },
   "file_extension": ".py",
   "mimetype": "text/x-python",
   "name": "python",
   "nbconvert_exporter": "python",
   "pygments_lexer": "ipython3",
   "version": "3.10.11"
  },
  "orig_nbformat": 4
 },
 "nbformat": 4,
 "nbformat_minor": 2
}
