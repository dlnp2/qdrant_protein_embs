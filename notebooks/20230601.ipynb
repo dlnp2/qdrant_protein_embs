{
 "cells": [
  {
   "cell_type": "code",
   "execution_count": 35,
   "metadata": {},
   "outputs": [],
   "source": [
    "from biotite.database import uniprot\n",
    "from qdrant_client import QdrantClient, models as qdmodels\n",
    "import h5py\n",
    "import numpy as np"
   ]
  },
  {
   "attachments": {},
   "cell_type": "markdown",
   "metadata": {},
   "source": [
    "### Load dataset (ProtT5 embeddings of Homo sapiens proteins)"
   ]
  },
  {
   "cell_type": "code",
   "execution_count": 2,
   "metadata": {},
   "outputs": [
    {
     "data": {
      "text/plain": [
       "<HDF5 file \"UP000005640_9606.h5\" (mode r)>"
      ]
     },
     "execution_count": 2,
     "metadata": {},
     "output_type": "execute_result"
    }
   ],
   "source": [
    "dataset = h5py.File(\"/home/hideki/data/UP000005640_9606.h5\")\n",
    "dataset"
   ]
  },
  {
   "cell_type": "code",
   "execution_count": 3,
   "metadata": {},
   "outputs": [
    {
     "data": {
      "text/plain": [
       "20591"
      ]
     },
     "execution_count": 3,
     "metadata": {},
     "output_type": "execute_result"
    }
   ],
   "source": [
    "len(dataset)"
   ]
  },
  {
   "attachments": {},
   "cell_type": "markdown",
   "metadata": {},
   "source": [
    "### Which is faster to read out an embedding from h5 file?"
   ]
  },
  {
   "cell_type": "code",
   "execution_count": 14,
   "metadata": {},
   "outputs": [],
   "source": [
    "acc_id, vector = next(iter(dataset.items()))"
   ]
  },
  {
   "cell_type": "code",
   "execution_count": 16,
   "metadata": {},
   "outputs": [
    {
     "name": "stdout",
     "output_type": "stream",
     "text": [
      "23.3 µs ± 34.3 ns per loop (mean ± std. dev. of 7 runs, 10,000 loops each)\n"
     ]
    }
   ],
   "source": [
    "%timeit vector[:].astype(float).tolist()"
   ]
  },
  {
   "cell_type": "code",
   "execution_count": 17,
   "metadata": {},
   "outputs": [
    {
     "name": "stdout",
     "output_type": "stream",
     "text": [
      "73.3 ms ± 403 µs per loop (mean ± std. dev. of 7 runs, 10 loops each)\n"
     ]
    }
   ],
   "source": [
    "%timeit list(vector.astype(float))"
   ]
  },
  {
   "attachments": {},
   "cell_type": "markdown",
   "metadata": {},
   "source": [
    "-> directly using the underlying numpy array is far faster"
   ]
  },
  {
   "attachments": {},
   "cell_type": "markdown",
   "metadata": {},
   "source": [
    "### Create a collection and insert points"
   ]
  },
  {
   "cell_type": "code",
   "execution_count": 28,
   "metadata": {},
   "outputs": [],
   "source": [
    "client = QdrantClient()"
   ]
  },
  {
   "cell_type": "code",
   "execution_count": 31,
   "metadata": {},
   "outputs": [],
   "source": [
    "collection_name = \"UP000005640_9606\"\n",
    "\n",
    "client.recreate_collection(\n",
    "    collection_name=collection_name,\n",
    "    vectors_config=qdmodels.VectorParams(size=1024, distance=qdmodels.Distance.COSINE),\n",
    ")"
   ]
  },
  {
   "cell_type": "code",
   "execution_count": 33,
   "metadata": {},
   "outputs": [],
   "source": [
    "batch_size = 128\n",
    "\n",
    "points = []\n",
    "for idx, (acc_id, vector) in enumerate(dataset.items()):\n",
    "    point = qdmodels.PointStruct(\n",
    "        id=idx, vector=vector[:].astype(float).tolist(), payload={\"accession_id\": acc_id}\n",
    "    )\n",
    "    points.append(point)\n",
    "    if len(points) == batch_size:\n",
    "        op_results = client.upsert(collection_name=collection_name, points=points)\n",
    "        points = []\n",
    "if points:\n",
    "    op_results = client.upsert(collection_name=collection_name, points=points)\n",
    "del points"
   ]
  },
  {
   "cell_type": "code",
   "execution_count": 34,
   "metadata": {},
   "outputs": [
    {
     "data": {
      "text/plain": [
       "UpdateResult(operation_id=160, status=<UpdateStatus.COMPLETED: 'completed'>)"
      ]
     },
     "execution_count": 34,
     "metadata": {},
     "output_type": "execute_result"
    }
   ],
   "source": [
    "op_results"
   ]
  },
  {
   "attachments": {},
   "cell_type": "markdown",
   "metadata": {},
   "source": [
    "### Querying"
   ]
  },
  {
   "cell_type": "code",
   "execution_count": 38,
   "metadata": {},
   "outputs": [],
   "source": [
    "query_acc_id = np.random.choice(list(dataset.keys()))\n",
    "hits = client.search(\n",
    "    collection_name=collection_name,\n",
    "    query_vector=dataset[query_acc_id][:].astype(float).tolist(),\n",
    "    limit=10,\n",
    ")"
   ]
  },
  {
   "cell_type": "code",
   "execution_count": 40,
   "metadata": {},
   "outputs": [
    {
     "data": {
      "text/plain": [
       "'P40259'"
      ]
     },
     "execution_count": 40,
     "metadata": {},
     "output_type": "execute_result"
    }
   ],
   "source": [
    "query_acc_id"
   ]
  },
  {
   "cell_type": "code",
   "execution_count": 53,
   "metadata": {},
   "outputs": [],
   "source": [
    "def fetch_uniprot_entry(accession_id: str) -> tuple[str, str]:\n",
    "    annotation, *seq = uniprot.fetch(accession_id, format=\"fasta\").read().split(\"\\n\")\n",
    "    return annotation, \"\".join(seq)"
   ]
  },
  {
   "cell_type": "code",
   "execution_count": 45,
   "metadata": {},
   "outputs": [
    {
     "data": {
      "text/plain": [
       "('>sp|P40259|CD79B_HUMAN B-cell antigen receptor complex-associated protein beta chain OS=Homo sapiens OX=9606 GN=CD79B PE=1 SV=1',\n",
       " 'MARLALSPVPSHWMVALLLLLSAEPVPAARSEDRYRNPKGSACSRIWQSPRFIARKRGFTVKMHCYMNSASGNVSWLWKQEMDENPQQLKLEKGRMEESQNESLATLTIQGIRFEDNGIYFCQQKCNNTSEVYQGCGTELRVMGFSTLAQLKQRNTLKDGIIMIQTLLIILFIIVPIFLLLDKDDSKAGMEEDHTYEGLDIDQTATYEDIVTLRTGEVKWSVGEHPGQE')"
      ]
     },
     "execution_count": 45,
     "metadata": {},
     "output_type": "execute_result"
    }
   ],
   "source": [
    "fetch_uniprot_entry(query_acc_id)"
   ]
  },
  {
   "cell_type": "code",
   "execution_count": 55,
   "metadata": {},
   "outputs": [
    {
     "name": "stdout",
     "output_type": "stream",
     "text": [
      "1.0000001 >sp|P40259|CD79B_HUMAN B-cell antigen receptor complex-associated protein beta chain OS=Homo sapiens OX=9606 GN=CD79B PE=1 SV=1\n",
      "0.9043885 >sp|P11912|CD79A_HUMAN B-cell antigen receptor complex-associated protein alpha chain OS=Homo sapiens OX=9606 GN=CD79A PE=1 SV=2\n",
      "0.89464164 >sp|Q8NET5|NFAM1_HUMAN NFAT activation molecule 1 OS=Homo sapiens OX=9606 GN=NFAM1 PE=1 SV=1\n",
      "0.8810506 >sp|Q9UIB8|SLAF5_HUMAN SLAM family member 5 OS=Homo sapiens OX=9606 GN=CD84 PE=1 SV=1\n",
      "0.8793238 >sp|Q13291|SLAF1_HUMAN Signaling lymphocytic activation molecule OS=Homo sapiens OX=9606 GN=SLAMF1 PE=1 SV=1\n",
      "0.8782977 >sp|Q9NQ25|SLAF7_HUMAN SLAM family member 7 OS=Homo sapiens OX=9606 GN=SLAMF7 PE=1 SV=1\n",
      "0.8766905 >sp|Q15116|PDCD1_HUMAN Programmed cell death protein 1 OS=Homo sapiens OX=9606 GN=PDCD1 PE=1 SV=3\n",
      "0.875193 >sp|Q96A28|SLAF9_HUMAN SLAM family member 9 OS=Homo sapiens OX=9606 GN=SLAMF9 PE=2 SV=2\n",
      "0.873362 >sp|Q9BZW8|CD244_HUMAN Natural killer cell receptor 2B4 OS=Homo sapiens OX=9606 GN=CD244 PE=1 SV=2\n",
      "0.8717493 >sp|Q495A1|TIGIT_HUMAN T-cell immunoreceptor with Ig and ITIM domains OS=Homo sapiens OX=9606 GN=TIGIT PE=1 SV=1\n"
     ]
    }
   ],
   "source": [
    "for hit in hits:\n",
    "    annotation, seq = fetch_uniprot_entry(hit.payload[\"accession_id\"])\n",
    "    print(hit.score, annotation)"
   ]
  }
 ],
 "metadata": {
  "kernelspec": {
   "display_name": ".venv",
   "language": "python",
   "name": "python3"
  },
  "language_info": {
   "codemirror_mode": {
    "name": "ipython",
    "version": 3
   },
   "file_extension": ".py",
   "mimetype": "text/x-python",
   "name": "python",
   "nbconvert_exporter": "python",
   "pygments_lexer": "ipython3",
   "version": "3.10.11"
  },
  "orig_nbformat": 4
 },
 "nbformat": 4,
 "nbformat_minor": 2
}
